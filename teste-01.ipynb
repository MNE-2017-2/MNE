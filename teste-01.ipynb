{
 "cells": [
  {
   "cell_type": "code",
   "execution_count": 22,
   "metadata": {},
   "outputs": [
    {
     "name": "stdout",
     "output_type": "stream",
     "text": [
      "0.5671432965302959\n",
      "(0.56714329041+0j)\n"
     ]
    }
   ],
   "source": [
    "from scipy.special import lambertw\n",
    "import math\n",
    "\n",
    "def f(x, wi):\n",
    "    return wi * math.exp(wi) - x\n",
    "\n",
    "def f_linha(wi):\n",
    "    return wi * math.exp(wi) + math.exp(wi)\n",
    "\n",
    "def newtonLambert(x):\n",
    "    if (x > 0):\n",
    "        wi = x\n",
    "        while True:\n",
    "            novo_wi = wi - f(x, wi) / f_linha(wi)\n",
    "            if abs(wi - novo_wi) <= erro:\n",
    "                break\n",
    "            wi = novo_wi\n",
    "        return wi # w(x) retorna y\n",
    "    else:\n",
    "        raise ValueError('Valor de x deve ser maior que 0')\n",
    "\n",
    "x = 1\n",
    "erro = 0.00000001\n",
    "                \n",
    "print(newtonLambert(x))\n",
    "print(lambertw(x))"
   ]
  }
 ],
 "metadata": {
  "kernelspec": {
   "display_name": "Python 3",
   "language": "python",
   "name": "python3"
  },
  "language_info": {
   "codemirror_mode": {
    "name": "ipython",
    "version": 3
   },
   "file_extension": ".py",
   "mimetype": "text/x-python",
   "name": "python",
   "nbconvert_exporter": "python",
   "pygments_lexer": "ipython3",
   "version": "3.6.1"
  }
 },
 "nbformat": 4,
 "nbformat_minor": 2
}
