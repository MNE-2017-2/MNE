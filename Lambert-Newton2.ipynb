{
 "cells": [
  {
   "cell_type": "code",
   "execution_count": 9,
   "metadata": {},
   "outputs": [
    {
     "name": "stdout",
     "output_type": "stream",
     "text": [
      "0.567143290533\n",
      "(0.56714329041+0j)\n"
     ]
    },
    {
     "data": {
      "image/png": "[encoded data removed]",
      "text/plain": [
       "<matplotlib.figure.Figure at 0x7f89a8c7e518>"
      ]
     },
     "metadata": {},
     "output_type": "display_data"
    }
   ],
   "source": [
    "import numpy as np\n",
    "from scipy.special import lambertw\n",
    "import matplotlib.pyplot as plt\n",
    "\n",
    "def lambert(x):\n",
    "    def f(w):\n",
    "        \"F(w) da função de Lambert\"\n",
    "        return w * np.exp(w) - x\n",
    "\n",
    "    def f_linha(w):\n",
    "        \"Derivada da função f(w) de Lambert\"\n",
    "        return np.exp(w) + w * np.exp(w)\n",
    "\n",
    "    # chute inicial de w\n",
    "    w = x/2\n",
    "\n",
    "    while abs(f(w)) > 1e-6:\n",
    "        \"Metodo de Newton\"\n",
    "        w = w - f(w)/f_linha(w)\n",
    "    \n",
    "    return w\n",
    "\n",
    "x = 1\n",
    "\n",
    "print(w)\n",
    "print(lambertw(x))\n",
    "\n",
    "\n",
    "xs = np.linspace(0, 100)\n",
    "ys_1 = np.real(lambertw(xs))\n",
    "ys_2 = [lambert(x) for x in xs]\n",
    "\n",
    "plt.plot(xs, ys_1, label=\"teórico\")\n",
    "plt.plot(xs, ys_2, label=\"obtido\")\n",
    "plt.legend()\n",
    "plt.show()"
   ]
  }
 ],
 "metadata": {
  "kernelspec": {
   "display_name": "Python 3",
   "language": "python",
   "name": "python3"
  },
  "language_info": {
   "codemirror_mode": {
    "name": "ipython",
    "version": 3
   },
   "file_extension": ".py",
   "mimetype": "text/x-python",
   "name": "python",
   "nbconvert_exporter": "python",
   "pygments_lexer": "ipython3",
   "version": "3.6.1"
  }
 },
 "nbformat": 4,
 "nbformat_minor": 2
}
