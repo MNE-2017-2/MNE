{
 "cells": [
  {
   "cell_type": "code",
   "execution_count": 26,
   "metadata": {},
   "outputs": [
    {
     "name": "stdout",
     "output_type": "stream",
     "text": [
      "0.999965517876\n"
     ]
    }
   ],
   "source": [
    "import numpy as np\n",
    "\n",
    "def f(t):\n",
    "  return np.e**(-t**2)\n",
    "\n",
    "h = 1\n",
    "X = np.arange(0, 10, h)\n",
    "\n",
    "simpson = np.sum(h/6 * (f(X) + 4 * f(X + h/2) + f(X + h)))\n",
    "\n",
    "integral = 2/np.sqrt(np.pi) * simpson\n",
    "\n",
    "print (integral)\n",
    "\n"
   ]
  }
 ],
 "metadata": {
  "kernelspec": {
   "display_name": "Python 3",
   "language": "python",
   "name": "python3"
  },
  "language_info": {
   "codemirror_mode": {
    "name": "ipython",
    "version": 3
   },
   "file_extension": ".py",
   "mimetype": "text/x-python",
   "name": "python",
   "nbconvert_exporter": "python",
   "pygments_lexer": "ipython3",
   "version": "3.6.1"
  }
 },
 "nbformat": 4,
 "nbformat_minor": 2
}
