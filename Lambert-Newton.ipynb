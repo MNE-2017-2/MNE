{
 "cells": [
  {
   "cell_type": "code",
   "execution_count": 10,
   "metadata": {},
   "outputs": [
    {
     "name": "stdout",
     "output_type": "stream",
     "text": [
      "0.56714329041\n",
      "(0.56714329041+0j)\n"
     ]
    }
   ],
   "source": [
    "import numpy as np\n",
    "from scipy.special import lambertw\n",
    "import matplotlib.pyplot as plt\n",
    "\n",
    "\n",
    "x = 1\n",
    "\n",
    "def f(w):\n",
    "    \"F(w) da função de Lambert\"\n",
    "    return w * np.exp(w) - x\n",
    "\n",
    "def f_linha(w):\n",
    "    \"Derivada da função f(w) de Lambert\"\n",
    "    return np.exp(w) + w * np.exp(w)\n",
    "\n",
    "# chute inicial de w\n",
    "w = x/2\n",
    "\n",
    "for i in range(30):\n",
    "    \"Metodo de Newton\"\n",
    "    w = w - f(w)/f_linha(w)\n",
    "    \n",
    "print(w)\n",
    "print(lambertw(x))\n"
   ]
  }
 ],
 "metadata": {
  "kernelspec": {
   "display_name": "Python 3",
   "language": "python",
   "name": "python3"
  },
  "language_info": {
   "codemirror_mode": {
    "name": "ipython",
    "version": 3
   },
   "file_extension": ".py",
   "mimetype": "text/x-python",
   "name": "python",
   "nbconvert_exporter": "python",
   "pygments_lexer": "ipython3",
   "version": "3.6.1"
  }
 },
 "nbformat": 4,
 "nbformat_minor": 2
}
