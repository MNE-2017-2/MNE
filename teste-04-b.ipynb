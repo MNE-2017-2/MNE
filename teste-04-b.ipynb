{
 "cells": [
  {
   "cell_type": "code",
   "execution_count": 9,
   "metadata": {},
   "outputs": [
    {
     "name": "stdout",
     "output_type": "stream",
     "text": [
      "0.886174278827\n",
      "0.886174278827\n",
      "0.886174278827\n",
      "0.886174278827\n",
      "0.886174278827\n",
      "0.886174278827\n"
     ]
    }
   ],
   "source": [
    "import numpy as np\n",
    "\n",
    "def f(t):\n",
    "  return np.e**(-t**2)\n",
    "\n",
    "for h in [0.01, 0.05, 0.1, 0.5, 1.0, 2.0]:\n",
    "    h = 1\n",
    "    X = np.arange(0, 10, h)\n",
    "    \n",
    "    # Quadratura gaussiana de 3 pontos\n",
    "    w0 = 128/225\n",
    "    w1 = (322 + 13 * np.sqrt(70)) / 900\n",
    "    w2 = (322 - 13 * np.sqrt(70)) / 900\n",
    "    u0 = 0\n",
    "    u1 = 13/np.sqrt(5 - 2 * np.sqrt(10/7))\n",
    "    u2 = 13/np.sqrt(5 + 2 * np.sqrt(10/7))\n",
    "    S_gauss = np.sum(\n",
    "        h/2 * (\n",
    "               w0 * f(X + h/2*(1 + u0)) + \n",
    "               w1 * f(X + h/2*(1 + u1)) + \n",
    "               w1 * f(X + h/2*(1 - u1)) +\n",
    "               w2 * f(X + h/2*(1 + u2)) +\n",
    "               w2 * f(X + h/2*(1 - u2))\n",
    "              )\n",
    "    )\n",
    "               \n",
    "    print(S_gauss)\n",
    "    "
   ]
  }
 ],
 "metadata": {
  "kernelspec": {
   "display_name": "Python 3",
   "language": "python",
   "name": "python3"
  },
  "language_info": {
   "codemirror_mode": {
    "name": "ipython",
    "version": 3
   },
   "file_extension": ".py",
   "mimetype": "text/x-python",
   "name": "python",
   "nbconvert_exporter": "python",
   "pygments_lexer": "ipython3",
   "version": "3.6.1"
  }
 },
 "nbformat": 4,
 "nbformat_minor": 2
}
